{
 "cells": [
  {
   "cell_type": "code",
   "execution_count": 38,
   "id": "435db6f4-e15b-4f9b-8cd0-b9b5dedd9e79",
   "metadata": {},
   "outputs": [],
   "source": [
    "import numpy as np\n",
    "from sklearn.cluster import KMeans\n",
    "from sklearn.datasets import fetch_california_housing\n",
    "from sklearn.model_selection import train_test_split"
   ]
  },
  {
   "cell_type": "markdown",
   "id": "d3a8837d-5164-4be5-9997-fdd0a687f07e",
   "metadata": {},
   "source": [
    "**Instruções gerais:** Sua submissão <u>deve</u> conter: \n",
    "1. Um \"ipynb\" com seu código e as soluções dos problemas\n",
    "2. Uma versão pdf do ipynb\n",
    "\n",
    "Caso você opte por resolver as questões de \"papel e caneta\" em um editor de $\\LaTeX$ externo, o inclua no final da versão pdf do 'ipynb'--- submetendo um <u>único pdf</u>."
   ]
  },
  {
   "cell_type": "markdown",
   "id": "58678575-bb0a-4ff2-85d2-f1ff100806f2",
   "metadata": {
    "tags": []
   },
   "source": [
    "# Trabalho de casa 04: Seleção de modelo e hiperparametros"
   ]
  },
  {
   "cell_type": "markdown",
   "id": "af932776-d827-4ee8-b749-c1aec78faadf",
   "metadata": {},
   "source": [
    "**1.** O código abaixo carrega o banco de dados *California housing*. Divida o banco de dados em treino, teste e validação. Use o conjunto de validação para escolher o coeficiente de regularização $c$ para um modelo de regressão linear com penalização $L_2$. Use a fórmula analítica para estimar os pesos do modelo de regressão. Plote os MSE no conjunto de trieno e validação em função de $c$. Comente o resultado. Avalie a performance do modelo ótimo no conjunto de teste e também comente."
   ]
  },
  {
   "cell_type": "code",
   "execution_count": 39,
   "id": "21701c8f-7d43-450e-9541-38aec817de0f",
   "metadata": {},
   "outputs": [],
   "source": [
    "SEED = 42\n",
    "np.random.seed(SEED)\n",
    "\n",
    "X, y = fetch_california_housing(return_X_y=True)"
   ]
  },
  {
   "cell_type": "code",
   "execution_count": 40,
   "id": "c0323d40-ffbc-4b85-a512-f0a979ed9e8c",
   "metadata": {},
   "outputs": [],
   "source": [
    "# Seu código aqui#dividir o bancoo de dados em treino, teste.\n",
    "X_train, X_test, y_train, y_test = train_test_split(X, y, test_size=0.2, random_state=SEED)\n",
    "\n",
    "# Dividir o banco de dados de treino em treino e validação.\n",
    "X_train, X_val, y_train, y_val = train_test_split(X_train, y_train, test_size=0.2, random_state=SEED)\n",
    "\n",
    "\n",
    "# linear regression with L2 penalty\n",
    "class regressao_linear:\n",
    "    def __init__(self, c=0.1):\n",
    "        self.c = c;\n",
    "        self.w = None;\n",
    "        self.ws = [];\n",
    "\n",
    "    def fit(self, X, y):\n",
    "        n, d = X.shape;\n",
    "        self.w = np.linalg.inv(X.T @ X + self.c * np.eye(d)) @ X.T @ y;\n",
    "        self.ws.append(self.w);\n",
    "\n",
    "    def predict(self, X):\n",
    "        return X @ self.w;\n"
   ]
  },
  {
   "cell_type": "code",
   "execution_count": 41,
   "id": "9ab27c7a",
   "metadata": {},
   "outputs": [
    {
     "name": "stdout",
     "output_type": "stream",
     "text": [
      "mse: 0.5906832867541769\n",
      "mse: 0.5906832890191026\n",
      "mse: 0.5906832958088609\n",
      "mse: 0.5906833071159323\n",
      "mse: 0.5906833229328101\n",
      "mse: 0.590683343252\n",
      "mse: 0.5906833680660203\n",
      "mse: 0.5906833973674013\n",
      "mse: 0.5906834311486864\n",
      "mse: 0.5906834694024308\n",
      "mse: 0.5906835121212024\n",
      "mse: 0.5906841832591321\n",
      "mse: 0.5906852928153606\n",
      "mse: 0.5906868335583082\n",
      "mse: 0.5906887983752116\n",
      "mse: 0.5906911802699646\n",
      "mse: 0.5906939723609987\n",
      "mse: 0.5906971678792092\n",
      "mse: 0.5907007601659219\n",
      "mse: 0.5907047426709051\n"
     ]
    },
    {
     "data": {
      "image/png": "[encoded data removed]",
      "text/plain": [
       "<Figure size 640x480 with 1 Axes>"
      ]
     },
     "metadata": {},
     "output_type": "display_data"
    }
   ],
   "source": [
    "#lista de valores de c\n",
    "cs = [0, 0.1, 0.2, 0.3, 0.4, 0.5, 0.6, 0.7, 0.8, 0.9, 1, 2,3,4, 5,6,7,8,9,10];\n",
    "mse_values = []\n",
    "\n",
    "#treinar modelo pra esses valores de c\n",
    "for c in cs:\n",
    "    model = regressao_linear(c=c)\n",
    "    model.fit(X_train, y_train)\n",
    "    y_pred = model.predict(X_train)\n",
    "    # compute mse\n",
    "    mse_values.append(np.mean((y_pred - y_train) ** 2))\n",
    "    print(f\"mse: {mse_values[-1]}\")\n",
    "\n",
    "#plotar mse pra cada c\n",
    "import matplotlib.pyplot as plt\n",
    "plt.plot(cs, mse_values);\n",
    "plt.xlabel(\"c\");\n",
    "plt.ylabel(\"mse\");\n",
    "# plt.xscale(\"log\");\n",
    "# plt.yscale(\"log\");\n",
    "plt.show();"
   ]
  },
  {
   "cell_type": "markdown",
   "id": "3f32cb35",
   "metadata": {},
   "source": [
    "Note que valores maiores de $c$ estão gerando valores maiores de mse - mesmo que esses valores sejam muito pouco maiores - o que nos leva a crer que $c=0$ é o melhor valor para o coeficiente de regularização."
   ]
  },
  {
   "cell_type": "code",
   "execution_count": 42,
   "id": "dd68eef6",
   "metadata": {},
   "outputs": [
    {
     "name": "stdout",
     "output_type": "stream",
     "text": [
      "[1.1288112910966632, 1.1285461886354498, 1.128281244264644, 1.1280164578523255, 1.127751829265545, 1.1274873583688931, 1.1272230450323766, 1.126958889122916, 1.1266948905072154, 1.126431049053433, 1.1261673646295383, 1.123539128060965, 1.1209264502022516, 1.1183292013024624, 1.1157472530333927, 1.113180478466986, 1.1106287520582412, 1.108091949625936, 1.1055699483343542, 1.1030626266731558]\n"
     ]
    }
   ],
   "source": [
    "#cheking ir norm of w is decresing as c increases\n",
    "weight_norms = []\n",
    "for c in cs:\n",
    "    model = regressao_linear(c=c)\n",
    "    model.fit(X_train, y_train)\n",
    "    weight_norms.append(np.linalg.norm(model.w))\n",
    "print(weight_norms)"
   ]
  },
  {
   "cell_type": "markdown",
   "id": "ab2a32a9",
   "metadata": {},
   "source": [
    "Vamos agora avaliar o mse pro conjunto de validação."
   ]
  },
  {
   "cell_type": "code",
   "execution_count": 43,
   "id": "0a1541c7",
   "metadata": {},
   "outputs": [
    {
     "name": "stdout",
     "output_type": "stream",
     "text": [
      "mse: 0.6363351874515026\n",
      "mse: 0.6363353285571307\n",
      "mse: 0.6363354742925442\n",
      "mse: 0.6363356246498689\n",
      "mse: 0.6363357796212192\n",
      "mse: 0.6363359391987344\n",
      "mse: 0.6363361033745597\n",
      "mse: 0.6363362721408565\n",
      "mse: 0.6363364454898219\n",
      "mse: 0.636336623413583\n",
      "mse: 0.6363368059044048\n",
      "mse: 0.6363388802931866\n",
      "mse: 0.6363414029030852\n",
      "mse: 0.6363443661472907\n",
      "mse: 0.6363477625648822\n",
      "mse: 0.6363515848183467\n",
      "mse: 0.6363558256913898\n",
      "mse: 0.6363604780866478\n",
      "mse: 0.636365535023622\n",
      "mse: 0.6363709896365627\n"
     ]
    },
    {
     "data": {
      "image/png": "[encoded data removed]",
      "text/plain": [
       "<Figure size 640x480 with 1 Axes>"
      ]
     },
     "metadata": {},
     "output_type": "display_data"
    }
   ],
   "source": [
    "mse_values = []\n",
    "for c in cs:\n",
    "    model = regressao_linear(c=c)\n",
    "    model.fit(X_train, y_train)\n",
    "    y_pred = model.predict(X_val)\n",
    "    # compute mse\n",
    "    mse_values.append(np.mean((y_pred - y_val) ** 2))\n",
    "    print(f\"mse: {mse_values[-1]}\")\n",
    "\n",
    "#plotar mse pra cada c\n",
    "import matplotlib.pyplot as plt\n",
    "plt.plot(cs, mse_values);\n",
    "plt.xlabel(\"c\");\n",
    "plt.ylabel(\"mse\");\n",
    "# plt.xscale(\"log\")\n",
    "# plt.yscale(\"log\")\n",
    "plt.show();"
   ]
  },
  {
   "cell_type": "markdown",
   "id": "b1beadf2",
   "metadata": {},
   "source": [
    "Os resultados foram semelhantes. Agora, vamos calcular o mse para o melhor c no conjunto de teste.\n"
   ]
  },
  {
   "cell_type": "code",
   "execution_count": 44,
   "id": "3b5225db",
   "metadata": {},
   "outputs": [
    {
     "name": "stdout",
     "output_type": "stream",
     "text": [
      "mse: 0.6244859066365823\n"
     ]
    }
   ],
   "source": [
    "#teste\n",
    "model = regressao_linear(c=0)\n",
    "model.fit(X_train, y_train)\n",
    "y_pred = model.predict(X_test)\n",
    "mse = np.mean((y_pred - y_test) ** 2)\n",
    "print(f\"mse: {mse}\")\n"
   ]
  },
  {
   "cell_type": "markdown",
   "id": "a1f36bff",
   "metadata": {},
   "source": [
    "\n",
    "O deslize cometido é pequeno, mas ele nos dá uma boa pista de que, de fato, a escolha de usar c é bastante sensata. Pense bem, estamos lidando com um banco de dados consideravelmente grande. Nesse cenário, reduzir a variância não nos traz grandes vantagens, só estamos aumentando o viés sem realmente ganhar nada em troca. Então, aumentar o c realmente não parece ser uma ideia muito inteligente."
   ]
  },
  {
   "cell_type": "markdown",
   "id": "54935fda-2b5b-462e-87fa-897e97408f29",
   "metadata": {},
   "source": [
    "**2.** Implemente 5-fold *nested cross-validation* para escolher entre os métodos $k$-NN e regressão linear com regularização $L_2$ (similar ao exercício acima). Considere $k \\in \\{1, 2, 3, 4, 5\\}$ e $c \\in \\{0, 1, 10, 100\\}$. Use o mesmo banco de dados do último exercício e comente o resultado. Em média, qual valor de hiperparametro resulta na melhor performance para o método escolhido (use 5-fold cross validation regular para isso)?\n",
    "\n",
    "Obs.: para simplificar sua vida, use o $k$-NN para regressão do scikit-learning com distância euclidiana.\n",
    "\n",
    "Obs. 2: para mais informações sobre o $K$-fold *nested cross-validation*, recomendamos esses materiais:\n",
    "- [Algoritmo e breve explicação](https://weina.me/nested-cross-validation): a autora apresenta uma boa explicação do assunto acompanhada de uma descrição do algoritmo;\n",
    "- [Ilustrações e explicação acompanhada de código](https://ploomber.io/blog/nested-cv/): ajuda a visualizar melhor o que é *nested cross-validation*; vale lembrar que seu código, diferente do dos exemplos desse link, não deve utilizar scikit-learn para implementar a *cross-validation*. "
   ]
  },
  {
   "cell_type": "code",
   "execution_count": 45,
   "id": "3c0c1a11-7e42-4f54-af38-c6cde8cf5b7d",
   "metadata": {},
   "outputs": [],
   "source": [
    "# get sklearn from sklearn\n",
    "from sklearn.neighbors import KNeighborsRegressor\n",
    "\n",
    "#lista de valores de c e k\n",
    "cs = [0, 1,10,100];\n",
    "ks = [2, 3, 4, 5]\n",
    "c = 1\n",
    "k = 1\n",
    "modelos = [KNeighborsRegressor(n_neighbors=k), regressao_linear(c=c)]\n"
   ]
  },
  {
   "cell_type": "code",
   "execution_count": 46,
   "id": "23d5cf3a",
   "metadata": {},
   "outputs": [],
   "source": [
    "#function to check the performance of the models\n",
    "def check_model(X_train, y_train, X_val, y_val, mse, knn_mse):\n",
    "    modelos = ['linear', 'knn']\n",
    "\n",
    "    for model in modelos:\n",
    "        if model == 'linear':\n",
    "            for c in cs:\n",
    "                model = regressao_linear(c=c)\n",
    "                model.fit(X_train, y_train)\n",
    "                y_pred = model.predict(X_val)\n",
    "                mse.append(np.mean((y_pred - y_val) ** 2))\n",
    "        else:\n",
    "            model = KNeighborsRegressor(n_neighbors=k)\n",
    "            model.fit(X_train, y_train)\n",
    "            y_pred = model.predict(X_val)\n",
    "            knn_mse.append(np.mean((y_pred - y_val) ** 2))\n",
    "\n",
    "    return mse, knn_mse"
   ]
  },
  {
   "cell_type": "markdown",
   "id": "4668c5a5",
   "metadata": {},
   "source": [
    "Agora vamos implementar o 5-fold nested cross-validation usando a função acima pra calcular o MSE de cada k e c"
   ]
  },
  {
   "cell_type": "code",
   "execution_count": 47,
   "id": "008428f8",
   "metadata": {},
   "outputs": [],
   "source": [
    "#nested cross validation to get the best model and hyperparameters\n",
    "\n",
    "indeces = [0, X.shape[0]//5, X.shape[0]//5*2, X.shape[0]//5*3, X.shape[0]//5*4, X.shape[0]]\n",
    "contador = 0\n",
    "\n",
    "linear_mse = [0,0,0,0]\n",
    "knn_mse = [0,0,0,0,0]\n",
    "\n",
    "for i in indeces:\n",
    "    if i == X.shape[0]:\n",
    "        break\n",
    "    else:\n",
    "        i_2 = indeces[contador+1]\n",
    "\n",
    "        X_test = X[i:i_2]\n",
    "        y_test = y[i:i_2]\n",
    "        X_train = np.concatenate((X[:i], X[i_2:]))\n",
    "        y_train = np.concatenate((y[:i], y[i_2:]))\n",
    "        contador += 1\n",
    "\n",
    "        indeces_2 = [0, X_train.shape[0]//5, X_train.shape[0]//5*2, X_train.shape[0]//5*3, X_train.shape[0]//5*4, X_train.shape[0]]\n",
    "        contador_2 = 0\n",
    "        for j in indeces_2:\n",
    "            if j == X_train.shape[0]:\n",
    "                break\n",
    "            else:\n",
    "                j_2 = indeces_2[contador_2+1]\n",
    "\n",
    "                X_val = X_train[j:j_2]\n",
    "                y_val = y_train[j:j_2]\n",
    "                X_train_2 = np.concatenate((X_train[:j], X_train[j_2:]))\n",
    "                y_train_2 = np.concatenate((y_train[:j], y_train[j_2:]))\n",
    "                contador_2 += 1\n",
    "\n",
    "                linear_mse, knn_mse = check_model(X_train_2, y_train_2, X_val, y_val, linear_mse, knn_mse)"
   ]
  },
  {
   "cell_type": "markdown",
   "id": "65868c15",
   "metadata": {},
   "source": [
    "Daí calculamos o melhor método com o melhor hiperparâmetro para cada método, calculando a média dos MSEs e pegando o menor."
   ]
  },
  {
   "cell_type": "code",
   "execution_count": 48,
   "id": "c27498db",
   "metadata": {},
   "outputs": [
    {
     "name": "stdout",
     "output_type": "stream",
     "text": [
      "Melhor método: Regressão Linear\n",
      "Melhor parâmetro: 0\n"
     ]
    }
   ],
   "source": [
    "#get mean of mse\n",
    "linear_mse = [mse/5 for mse in linear_mse]\n",
    "knn_mse = [mse/5 for mse in knn_mse]\n",
    "\n",
    "#concatenate\n",
    "mse = linear_mse + knn_mse\n",
    "\n",
    "melhor_par = None\n",
    "melhor_mse = None\n",
    "\n",
    "#melhor parametro\n",
    "for i, mse in enumerate(mse):\n",
    "    if melhor_mse is None or mse< melhor_mse:\n",
    "        melhor_mse = mse\n",
    "        if i < 4:\n",
    "            melhor_par = cs[i]\n",
    "            melhor_metodo = 'Regressão Linear'\n",
    "        else:\n",
    "            melhor_par = ks[i-4]\n",
    "            melhor_metodo = 'KNN'\n",
    "\n",
    "print(f\"Melhor método: {melhor_metodo}\")\n",
    "print(f\"Melhor parâmetro: {melhor_par}\")\n"
   ]
  },
  {
   "cell_type": "markdown",
   "id": "310f9589",
   "metadata": {},
   "source": [
    "Como esperado pelo desenvolvimento anterior, o melhor método foi a regressão linear com c=0."
   ]
  },
  {
   "cell_type": "markdown",
   "id": "8f268c40-0ccb-4420-9100-4cb669d98521",
   "metadata": {},
   "source": [
    "# Exercício de \"papel e caneta\""
   ]
  },
  {
   "cell_type": "markdown",
   "id": "adf3e1ec-14cd-4bf8-bea4-20c06de871f3",
   "metadata": {
    "tags": []
   },
   "source": [
    "**1.** Nas nota de aula, derivamos o \"dilema viés-variância\" calculando o MSE esperado entre a função alvo de aprendizado $f$ e a predição do nosso modelo $h_{\\mathcal{D}}$:\n",
    "\n",
    "$$\n",
    "\\mathbb{E}_{x, \\mathcal{D}} \n",
    "    \\left[ \n",
    "        \\left( \n",
    "        h_{\\mathcal{D}}(x) - f\\left(x\\right) \n",
    "        \\right)^2\n",
    "    \\right] =\n",
    "\\mathbb{E}_{x}[\\underbrace{\\textrm{Var}_{\\mathcal{D}}[\n",
    "        h_{\\mathcal{D}}(x)]}_{\\text{ Variância} }] + \\mathbb{E}_{x} [ (\\underbrace{\\mathbb{E}_{\\mathcal{D}}[\n",
    "        h_{\\mathcal{D}}(x) - f\\left(x\\right)]  }_{\\text{Viés}})^2] \n",
    "    ].\n",
    "$$\n",
    "\n",
    "Com isso em mente, adapte nossa derivação para o caso em que as respostas de teste $f(x)$ são corrompidas por um ruído aditivo aleatório $\\epsilon$ com média zero, i.e., observamos $f^\\prime(x) = f(x) + \\epsilon$. Mais concretamente, trabalhe a seguinte esperança para derivar uma decomposição similar à da nota de aula:\n",
    "$$\n",
    "\\mathbb{E}_{x, \\epsilon, \\mathcal{D}} \n",
    "    \\left[\n",
    "        \\left( \n",
    "        h_{\\mathcal{D}}(x) - f^\\prime\\left(x\\right)\n",
    "        \\right)^2\n",
    "    \\right].\n",
    "$$\n",
    "\n",
    "Compare a diferença entre a decomposição que você obteve e a da nota de aula.\n",
    "\n",
    "Dica: sua decomposição deve se diferenciar da acima em apenas um termo aditivo, que envolve uma esperança sobre $x$ e $y$.\n"
   ]
  },
  {
   "cell_type": "markdown",
   "id": "2e784907",
   "metadata": {},
   "source": [
    "**Resposta**\n",
    "Substituindo $f(x)$ no primeiro termo da equação do enunciado por $f(x) + \\epsilon$ temos\n",
    "$$\n",
    "\\mathbb{E}_{x, \\epsilon, \\mathcal{D}} \\left[ \\left( \n",
    "        h_{\\mathcal{D}}(x) - \\left(f\\left(x\\right)  + \\epsilon\\right)\n",
    "        \\right)^2 \\right]\n",
    "$$\n",
    "\n",
    " \n"
   ]
  },
  {
   "cell_type": "markdown",
   "id": "629b5f35",
   "metadata": {},
   "source": [
    "$$\n",
    "\\mathbb{E}_{x, \\epsilon, \\mathcal{D}} \\left[ ( \n",
    "        h_{\\mathcal{D}}(x))^2 - 2(h_{\\mathcal{D}}(x))(f(x)  + \\epsilon)\n",
    " + (\\epsilon)^2 \\right]\n",
    "$$"
   ]
  },
  {
   "cell_type": "markdown",
   "id": "106f5643",
   "metadata": {},
   "source": [
    "Vamos somar \n",
    "$$\n",
    "\\mathbb{E}_{x, \\epsilon} \\left[\n",
    "    \\mathbb{E}_{\\mathcal{D}}\\left[h_{\\mathcal{D}}(x)\\right]^2\\right] - \n",
    "    \\mathbb{E}_{x, \\epsilon} \\left[\n",
    "    \\mathbb{E}_{\\mathcal{D}}\\left[h_{\\mathcal{D}}(x)\\right]^2\\right]\n",
    "$$\n",
    "à expressão e coletar o termo equivalente à variância.\n",
    "\n"
   ]
  },
  {
   "cell_type": "markdown",
   "id": "4ae068f6",
   "metadata": {},
   "source": [
    "$$\n",
    "\\mathbb{E}_{x, \\epsilon, \\mathcal{D}} \\left[ ( \n",
    "        h_{\\mathcal{D}}(x))^2 - 2(h_{\\mathcal{D}}(x))(f(x)  + \\epsilon)\n",
    " + (\\epsilon)^2 \\right] \n",
    " + \n",
    " \\mathbb{E}_{x, \\epsilon} \\left[\n",
    "    \\mathbb{E}_{\\mathcal{D}}\\left[h_{\\mathcal{D}}(x)\\right]^2\\right] - \n",
    "    \\mathbb{E}_{x, \\epsilon} \\left[\n",
    "    \\mathbb{E}_{\\mathcal{D}}\\left[h_{\\mathcal{D}}(x)\\right]^2\\right]\n",
    "$$"
   ]
  },
  {
   "cell_type": "markdown",
   "id": "7d93f0a1",
   "metadata": {},
   "source": [
    "Agrupando o primeiro e o ultimo termo temos a variância\n",
    "$$\\left(\n",
    "\\mathbb{E}_{x, \\epsilon, \\mathcal{D}} \\left[ ( \n",
    "        h_{\\mathcal{D}}(x))^2\\right] -\n",
    "            \\mathbb{E}_{x, \\epsilon} \\left[\n",
    "    \\mathbb{E}_{\\mathcal{D}}\\left[h_{\\mathcal{D}}(x)\\right]^2\\right]\n",
    "    \\right)+\n",
    "        \\mathbb{E}_{x, \\epsilon, \\mathcal{D}} \\left[  - 2(h_{\\mathcal{D}}(x))(f(x)  + \\epsilon)\n",
    " + (\\epsilon)^2 \\right] \n",
    " + \n",
    " \\mathbb{E}_{x, \\epsilon} \\left[\n",
    "    \\mathbb{E}_{\\mathcal{D}}\\left[h_{\\mathcal{D}}(x)\\right]^2\\right] \n",
    "    $$\n"
   ]
  },
  {
   "cell_type": "markdown",
   "id": "4bbbd93b",
   "metadata": {},
   "source": [
    "$$\n",
    "\\mathbb{E}_{x}var_{\\mathcal{D}}[h_{\\mathcal{D}}(x)]+\n",
    "        \\mathbb{E}_{x, \\epsilon, \\mathcal{D}} \\left[  - 2(h_{\\mathcal{D}}(x))(f(x)  + \\epsilon)\n",
    " + (\\epsilon)^2 \\right] \n",
    " + \n",
    " \\mathbb{E}_{x, \\epsilon} \\left[\n",
    "    \\mathbb{E}_{\\mathcal{D}}\\left[h_{\\mathcal{D}}(x)\\right]^2\\right] "
   ]
  },
  {
   "cell_type": "markdown",
   "id": "1bf16026",
   "metadata": {},
   "source": [
    "O restante da expressão - que não a experança - vamos manipular até atingir o viés\n",
    "$$\n",
    "\\mathbb{E}_{x, \\epsilon} [\n",
    "    \\mathbb{E}_D[h_{D}(x)]^2- 2\\mathbb{E}_{D}[h_D(x)(f(x) + \\epsilon)] + (f(x) + \\epsilon)^2]\n",
    "$$\n",
    "\n"
   ]
  },
  {
   "cell_type": "markdown",
   "id": "c2bb2430",
   "metadata": {},
   "source": [
    "$$\n",
    "\\mathbb{E}_{x, \\epsilon} [\n",
    "    \\mathbb{E}_D[h_{D}(x)]^2- 2\\mathbb{E}_{D}[h_D(x)(f(x)) + h_D(x)\\epsilon] + (f(x)^2 + 2f(x)\\epsilon + \\epsilon^2)]\n",
    "    $$"
   ]
  },
  {
   "cell_type": "markdown",
   "id": "01a6a08d",
   "metadata": {},
   "source": [
    "$$\n",
    "\\mathbb{E}_{x,\\epsilon}[(\\mathbb{E}_D[h_D(x)] - f(x))^2] + \n",
    "\\mathbb{E}_{x,\\epsilon,D}[2f(x)\\epsilon - 2h_D(x)\\epsilon + \\epsilon^2]$$"
   ]
  },
  {
   "cell_type": "markdown",
   "id": "92852d2c",
   "metadata": {},
   "source": [
    "Aplicando o valor esperado em $\\epsilon$ devidamente temos "
   ]
  },
  {
   "cell_type": "markdown",
   "id": "468803f6",
   "metadata": {},
   "source": [
    "$$\n",
    "\\mathbb{E}_{x}[(\\mathbb{E}_D[h_D(x)] - f(x))^2] + \n",
    "\\mathbb{E}_{x,D}[2f(x)\\mathbb{E}_{\\epsilon}[\\epsilon] - 2h_D(x)\\mathbb{E}_{\\epsilon}[\\epsilon] + \\mathbb{E}_{\\epsilon}[\\epsilon^2]]\n",
    "$$"
   ]
  },
  {
   "cell_type": "markdown",
   "id": "f5a8e35f",
   "metadata": {},
   "source": [
    "Agora, tendo como premissa que $\\epsilon$ possui média zero, temos que $\\mathbb{E}_{\\epsilon}[\\epsilon] = 0$, podemos cancelar os termos em que esse componente aparece. Como a variância é a esperança do quadrado menos o quadrado da esperança, temos que $\\mathbb{E}_{\\epsilon}[\\epsilon^2] = \\sigma^2$, onde $\\sigma^2$ é a variância do ruído. Assim, temos que a  expressão se manifesta por"
   ]
  },
  {
   "cell_type": "markdown",
   "id": "97a5090c",
   "metadata": {},
   "source": [
    "$$\n",
    "\\mathbb{E}_{x}[(\\mathbb{E}_D[h_D(x)] - f(x))^2] + \n",
    "\\mathbb{E}_{x,D}[\\mathbb{E}_{\\epsilon}[\\epsilon^2]]\n",
    "$$"
   ]
  },
  {
   "cell_type": "markdown",
   "id": "71416f7d",
   "metadata": {},
   "source": [
    "$$\n",
    "\\mathbb{E}_{x}[(\\mathbb{E}_D[h_D(x)] - f(x))^2] + \n",
    "var_{\\epsilon}(\\epsilon)\n",
    "$$"
   ]
  },
  {
   "cell_type": "markdown",
   "id": "ff7c09ef",
   "metadata": {},
   "source": [
    "Como conclusão, temos que a substituição de $f(x)$ por $f(x) + \\epsilon$ resulta em uma decomposição do erro esperado que inclui um termo adicional, a variância do ruído. O resultado final é"
   ]
  },
  {
   "cell_type": "markdown",
   "id": "54e1e441",
   "metadata": {},
   "source": [
    "$$\n",
    "\\mathbb{E}_{x,\\epsilon, \\mathcal{D}} \n",
    "    \\left[ \n",
    "        \\left( \n",
    "        h_{\\mathcal{D}}(x) - f'\\left(x\\right) \n",
    "        \\right)^2\n",
    "    \\right]=\n",
    "\\mathbb{E}_{x}[\\underbrace{\\textrm{Var}_{\\mathcal{D}}[\n",
    "        h_{\\mathcal{D}}(x)]}_{\\text{ Variância} }] + \\mathbb{E}_{x} [ (\\underbrace{\\mathbb{E}_{\\mathcal{D}}[\n",
    "        h_{\\mathcal{D}}(x) - f\\left(x\\right)]  }_{\\text{Viés}})^2] \n",
    "     + var_{\\epsilon}(\\epsilon)\n",
    "$$"
   ]
  }
 ],
 "metadata": {
  "kernelspec": {
   "display_name": "Python 3 (ipykernel)",
   "language": "python",
   "name": "python3"
  },
  "language_info": {
   "codemirror_mode": {
    "name": "ipython",
    "version": 3
   },
   "file_extension": ".py",
   "mimetype": "text/x-python",
   "name": "python",
   "nbconvert_exporter": "python",
   "pygments_lexer": "ipython3",
   "version": "3.10.2"
  }
 },
 "nbformat": 4,
 "nbformat_minor": 5
}
